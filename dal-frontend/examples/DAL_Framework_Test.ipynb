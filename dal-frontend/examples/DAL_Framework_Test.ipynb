{
 "cells": [
  {
   "cell_type": "markdown",
   "metadata": {},
   "source": [
    "# DAL Framework Test\n",
    "\n",
    "This notebook demonstrates and tests the Decentralized Active Learning framework.\n",
    "\n",
    "Components tested:\n",
    "1. Wallet Authentication\n",
    "2. Active Learning\n",
    "3. Voting System\n",
    "4. Integration"
   ]
  },
  {
   "cell_type": "code",
   "execution_count": 1,
   "metadata": {
    "vscode": {
     "languageId": "plaintext"
    }
   },
   "outputs": [
    {
     "ename": "ModuleNotFoundError",
     "evalue": "No module named 'DAL'",
     "output_type": "error",
     "traceback": [
      "\u001b[31m---------------------------------------------------------------------------\u001b[39m",
      "\u001b[31mModuleNotFoundError\u001b[39m                       Traceback (most recent call last)",
      "\u001b[36mCell\u001b[39m\u001b[36m \u001b[39m\u001b[32mIn[1]\u001b[39m\u001b[32m, line 11\u001b[39m\n\u001b[32m      8\u001b[39m \u001b[38;5;28;01mimport\u001b[39;00m\u001b[38;5;250m \u001b[39m\u001b[34;01mipywidgets\u001b[39;00m\u001b[38;5;250m \u001b[39m\u001b[38;5;28;01mas\u001b[39;00m\u001b[38;5;250m \u001b[39m\u001b[34;01mwidgets\u001b[39;00m\n\u001b[32m     10\u001b[39m \u001b[38;5;66;03m# Import DAL components\u001b[39;00m\n\u001b[32m---> \u001b[39m\u001b[32m11\u001b[39m \u001b[38;5;28;01mfrom\u001b[39;00m\u001b[38;5;250m \u001b[39m\u001b[34;01mDAL\u001b[39;00m\u001b[34;01m.\u001b[39;00m\u001b[34;01mbackend\u001b[39;00m\u001b[34;01m.\u001b[39;00m\u001b[34;01mauth\u001b[39;00m\u001b[34;01m.\u001b[39;00m\u001b[34;01mwallet_auth\u001b[39;00m\u001b[38;5;250m \u001b[39m\u001b[38;5;28;01mimport\u001b[39;00m WalletAuth\n\u001b[32m     12\u001b[39m \u001b[38;5;28;01mfrom\u001b[39;00m\u001b[38;5;250m \u001b[39m\u001b[34;01mDAL\u001b[39;00m\u001b[34;01m.\u001b[39;00m\u001b[34;01mbackend\u001b[39;00m\u001b[34;01m.\u001b[39;00m\u001b[34;01mblockchain_adapter\u001b[39;00m\u001b[38;5;250m \u001b[39m\u001b[38;5;28;01mimport\u001b[39;00m BlockchainAdapter\n\u001b[32m     13\u001b[39m \u001b[38;5;28;01mfrom\u001b[39;00m\u001b[38;5;250m \u001b[39m\u001b[34;01mDAL\u001b[39;00m\u001b[34;01m.\u001b[39;00m\u001b[34;01mbackend\u001b[39;00m\u001b[34;01m.\u001b[39;00m\u001b[34;01mblockchain\u001b[39;00m\u001b[34;01m.\u001b[39;00m\u001b[34;01mvoting_contract\u001b[39;00m\u001b[38;5;250m \u001b[39m\u001b[38;5;28;01mimport\u001b[39;00m VotingContract\n",
      "\u001b[31mModuleNotFoundError\u001b[39m: No module named 'DAL'"
     ]
    }
   ],
   "source": [
    "# Import required packages\n",
    "import numpy as np\n",
    "from sklearn.datasets import make_classification\n",
    "from sklearn.svm import SVC\n",
    "import matplotlib.pyplot as plt\n",
    "import seaborn as sns\n",
    "from IPython.display import display\n",
    "import ipywidgets as widgets\n",
    "\n",
    "# Import DAL components\n",
    "from DAL.backend.auth.wallet_auth import WalletAuth\n",
    "from DAL.backend.blockchain_adapter import BlockchainAdapter\n",
    "from DAL.backend.blockchain.voting_contract import VotingContract\n",
    "from DAL.backend.al_manager import ActiveLearningManager\n",
    "\n",
    "# Set random seed for reproducibility\n",
    "np.random.seed(42)"
   ]
  },
  {
   "cell_type": "markdown",
   "metadata": {},
   "source": [
    "## 1. Create Synthetic Dataset\n",
    "\n",
    "We'll create a synthetic binary classification dataset for testing."
   ]
  },
  {
   "cell_type": "code",
   "execution_count": 1,
   "metadata": {
    "vscode": {
     "languageId": "plaintext"
    }
   },
   "outputs": [
    {
     "ename": "NameError",
     "evalue": "name 'make_classification' is not defined",
     "output_type": "error",
     "traceback": [
      "\u001b[31m---------------------------------------------------------------------------\u001b[39m",
      "\u001b[31mNameError\u001b[39m                                 Traceback (most recent call last)",
      "\u001b[36mCell\u001b[39m\u001b[36m \u001b[39m\u001b[32mIn[1]\u001b[39m\u001b[32m, line 2\u001b[39m\n\u001b[32m      1\u001b[39m \u001b[38;5;66;03m# Create synthetic dataset\u001b[39;00m\n\u001b[32m----> \u001b[39m\u001b[32m2\u001b[39m X, y = \u001b[43mmake_classification\u001b[49m(\n\u001b[32m      3\u001b[39m     n_samples=\u001b[32m1000\u001b[39m,\n\u001b[32m      4\u001b[39m     n_features=\u001b[32m2\u001b[39m,  \u001b[38;5;66;03m# 2D for easy visualization\u001b[39;00m\n\u001b[32m      5\u001b[39m     n_redundant=\u001b[32m0\u001b[39m,\n\u001b[32m      6\u001b[39m     n_informative=\u001b[32m2\u001b[39m,\n\u001b[32m      7\u001b[39m     random_state=\u001b[32m42\u001b[39m,\n\u001b[32m      8\u001b[39m     n_clusters_per_class=\u001b[32m1\u001b[39m\n\u001b[32m      9\u001b[39m )\n\u001b[32m     11\u001b[39m \u001b[38;5;66;03m# Split into initial labeled set and pool\u001b[39;00m\n\u001b[32m     12\u001b[39m n_initial = \u001b[32m10\u001b[39m\n",
      "\u001b[31mNameError\u001b[39m: name 'make_classification' is not defined"
     ]
    }
   ],
   "source": [
    "# Create synthetic dataset\n",
    "X, y = make_classification(\n",
    "    n_samples=1000,\n",
    "    n_features=2,  # 2D for easy visualization\n",
    "    n_redundant=0,\n",
    "    n_informative=2,\n",
    "    random_state=42,\n",
    "    n_clusters_per_class=1\n",
    ")\n",
    "\n",
    "# Split into initial labeled set and pool\n",
    "n_initial = 10\n",
    "indices = np.random.permutation(len(X))\n",
    "X_initial = X[indices[:n_initial]]\n",
    "y_initial = y[indices[:n_initial]]\n",
    "X_pool = X[indices[n_initial:]]\n",
    "y_pool = y[indices[n_initial:]]  # Ground truth (not used in real scenario)\n",
    "\n",
    "# Plot dataset\n",
    "plt.figure(figsize=(10, 6))\n",
    "plt.scatter(X_pool[:, 0], X_pool[:, 1], c='gray', alpha=0.5, label='Unlabeled')\n",
    "plt.scatter(X_initial[:, 0], X_initial[:, 1], c=y_initial, cmap='coolwarm', label='Initial')\n",
    "plt.title('Synthetic Dataset')\n",
    "plt.legend()\n",
    "plt.show()"
   ]
  },
  {
   "cell_type": "markdown",
   "metadata": {},
   "source": [
    "## 2. Initialize Components\n",
    "\n",
    "Set up the blockchain, authentication, and active learning components."
   ]
  },
  {
   "cell_type": "code",
   "execution_count": null,
   "metadata": {
    "vscode": {
     "languageId": "plaintext"
    }
   },
   "outputs": [],
   "source": [
    "# Initialize components\n",
    "blockchain = BlockchainAdapter()\n",
    "wallet_auth = WalletAuth(blockchain)\n",
    "voting_contract = VotingContract(blockchain)\n",
    "al_manager = ActiveLearningManager()\n",
    "\n",
    "# Create test wallets for voters\n",
    "voters = [wallet_auth.create_wallet() for _ in range(3)]\n",
    "print(\"Created test wallets:\")\n",
    "for i, wallet in enumerate(voters):\n",
    "    print(f\"Voter {i+1}: {wallet['address']}\")"
   ]
  },
  {
   "cell_type": "markdown",
   "metadata": {},
   "source": [
    "## 3. Initialize Active Learning Model"
   ]
  },
  {
   "cell_type": "code",
   "execution_count": null,
   "metadata": {
    "vscode": {
     "languageId": "plaintext"
    }
   },
   "outputs": [],
   "source": [
    "# Initialize the active learning model\n",
    "estimator = SVC(probability=True, random_state=42)\n",
    "al_manager.initialize_model(estimator, X_initial, y_initial)\n",
    "\n",
    "# Query instances\n",
    "n_query = 5\n",
    "query_indices, uncertainty_scores = al_manager.query(X_pool, n_instances=n_query)\n",
    "\n",
    "# Plot queried instances\n",
    "plt.figure(figsize=(10, 6))\n",
    "plt.scatter(X_pool[:, 0], X_pool[:, 1], c='gray', alpha=0.5, label='Unlabeled')\n",
    "plt.scatter(X_initial[:, 0], X_initial[:, 1], c=y_initial, cmap='coolwarm', label='Initial')\n",
    "plt.scatter(X_pool[query_indices, 0], X_pool[query_indices, 1], \n",
    "           c='yellow', s=100, marker='*', label='Queried')\n",
    "plt.title('Active Learning Query')\n",
    "plt.legend()\n",
    "plt.show()"
   ]
  },
  {
   "cell_type": "markdown",
   "metadata": {},
   "source": [
    "## 4. Create Voting Sessions"
   ]
  },
  {
   "cell_type": "code",
   "execution_count": null,
   "metadata": {
    "vscode": {
     "languageId": "plaintext"
    }
   },
   "outputs": [],
   "source": [
    "# Create voting sessions for queried instances\n",
    "session_ids = []\n",
    "for idx, uncertainty in zip(query_indices, uncertainty_scores):\n",
    "    sample_data = {\n",
    "        \"instance_id\": int(idx),\n",
    "        \"features\": X_pool[idx].tolist(),\n",
    "        \"uncertainty\": float(uncertainty)\n",
    "    }\n",
    "    \n",
    "    session_id = await voting_contract.create_voting_session(\n",
    "        sample=sample_data,\n",
    "        options=[0, 1]  # Binary classification\n",
    "    )\n",
    "    session_ids.append(session_id)\n",
    "    print(f\"Created voting session {session_id} for instance {idx}\")"
   ]
  },
  {
   "cell_type": "markdown",
   "metadata": {},
   "source": [
    "## 5. Simulate Voting\n",
    "\n",
    "In a real scenario, this would be done through a UI by actual voters."
   ]
  },
  {
   "cell_type": "code",
   "execution_count": null,
   "metadata": {
    "vscode": {
     "languageId": "plaintext"
    }
   },
   "outputs": [],
   "source": [
    "# Simulate voting\n",
    "for session_id in session_ids:\n",
    "    for voter in voters:\n",
    "        # In reality, this would be a human decision\n",
    "        # Here we use ground truth with some noise\n",
    "        idx = voting_contract.sessions[session_id].sample[\"instance_id\"]\n",
    "        true_label = y_pool[idx]\n",
    "        \n",
    "        # 80% chance of correct vote, 20% chance of incorrect\n",
    "        if np.random.random() < 0.8:\n",
    "            vote = true_label\n",
    "        else:\n",
    "            vote = 1 - true_label\n",
    "            \n",
    "        await voting_contract.cast_vote(\n",
    "            session_id,\n",
    "            voter[\"address\"],\n",
    "            vote\n",
    "        )\n",
    "        print(f\"Voter {voter['address']} cast vote {vote} for session {session_id}\")"
   ]
  },
  {
   "cell_type": "markdown",
   "metadata": {},
   "source": [
    "## 6. Finalize Voting and Update Model"
   ]
  },
  {
   "cell_type": "code",
   "execution_count": null,
   "metadata": {
    "vscode": {
     "languageId": "plaintext"
    }
   },
   "outputs": [],
   "source": [
    "# Finalize voting and collect results\n",
    "voted_labels = []\n",
    "for session_id in session_ids:\n",
    "    outcome = await voting_contract.finalize_voting(session_id)\n",
    "    voted_labels.append(outcome)\n",
    "    print(f\"Session {session_id} finalized with outcome {outcome}\")\n",
    "\n",
    "# Update model with new labels\n",
    "X_update = X_pool[query_indices]\n",
    "update_metrics = al_manager.update(X_update, np.array(voted_labels))\n",
    "print(f\"\\nModel updated with performance: {update_metrics['performance']:.3f}\")\n",
    "\n",
    "# Plot final state\n",
    "plt.figure(figsize=(10, 6))\n",
    "plt.scatter(X_pool[:, 0], X_pool[:, 1], c='gray', alpha=0.5, label='Unlabeled')\n",
    "plt.scatter(X_initial[:, 0], X_initial[:, 1], c=y_initial, cmap='coolwarm', label='Initial')\n",
    "plt.scatter(X_update[:, 0], X_update[:, 1], c=voted_labels, \n",
    "           cmap='coolwarm', s=100, marker='*', label='Newly Labeled')\n",
    "plt.title('Updated Dataset')\n",
    "plt.legend()\n",
    "plt.show()"
   ]
  }
 ],
 "metadata": {
  "kernelspec": {
   "display_name": "Python (dal)",
   "language": "python",
   "name": "dal"
  },
  "language_info": {
   "codemirror_mode": {
    "name": "ipython",
    "version": 3
   },
   "file_extension": ".py",
   "mimetype": "text/x-python",
   "name": "python",
   "nbconvert_exporter": "python",
   "pygments_lexer": "ipython3",
   "version": "3.13.2"
  }
 },
 "nbformat": 4,
 "nbformat_minor": 4
}
